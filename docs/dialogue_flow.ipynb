{
 "cells": [
  {
   "cell_type": "markdown",
   "source": [
    "# Dialogue Flow\n",
    "\n",
    "### References\n",
    "\n",
    "* [Emora STDM: A Versatile Framework for Innovative Dialogue System Development](https://aclanthology.org/2020.sigdial-1.32), James D. Finch and Jinho D. Choi, Proceedings of the Annual Meeting of the Special Interest Group on Discourse and Dialogue: System Demonstrations (SIGDIAL:DEMO), 2020.\n",
    "* [Emora STDM GitHub Repository](https://github.com/emora-chat/emora_stdm)"
   ],
   "metadata": {
    "collapsed": false
   }
  },
  {
   "cell_type": "markdown",
   "source": [
    "## Emora STDM\n",
    "\n",
    "Emora State Transition Dialogue Manager (Emora STDM) is a dialogue system development framework that seamlessly integrates intent classification, pattern recognition, state machine, and information state approaches to dialogue management and natural language understanding. Emora STDM supports rapid prototyping and long-term team-based development workflows, catering to a wide range of developer expertise."
   ],
   "metadata": {
    "collapsed": false
   }
  },
  {
   "cell_type": "code",
   "execution_count": 2,
   "outputs": [],
   "source": [
    "from emora_stdm import DialogueFlow\n",
    "df = DialogueFlow('start', end_state='end')"
   ],
   "metadata": {
    "collapsed": false
   }
  },
  {
   "cell_type": "markdown",
   "source": [
    "* `#1`: Import the `DialogueFlow` class from the `emora_stdm` package that you installed from [Getting Started](getting_started.md).\n",
    "* `#2`: Create a dialogue flow by naming the starting state as `start` and the ending state as `end`."
   ],
   "metadata": {
    "collapsed": false
   }
  },
  {
   "cell_type": "code",
   "execution_count": null,
   "outputs": [],
   "source": [],
   "metadata": {
    "collapsed": false
   }
  }
 ],
 "metadata": {
  "kernelspec": {
   "display_name": "Python 3",
   "language": "python",
   "name": "python3"
  },
  "language_info": {
   "codemirror_mode": {
    "name": "ipython",
    "version": 2
   },
   "file_extension": ".py",
   "mimetype": "text/x-python",
   "name": "python",
   "nbconvert_exporter": "python",
   "pygments_lexer": "ipython2",
   "version": "2.7.6"
  }
 },
 "nbformat": 4,
 "nbformat_minor": 0
}
