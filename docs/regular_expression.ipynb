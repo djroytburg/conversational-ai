{
 "cells": [
  {
   "cell_type": "markdown",
   "metadata": {},
   "source": [
    "# String Matching\n",
    "\n",
    "### Tokenization\n",
    "\n",
    "* [Split by Whitespace](#Split-by-Whitespace)\n",
    "* [Substring Matching](#Substring-Matching)\n",
    "* [Function Definition](#Function-Definition)\n",
    "* [Exercise 1](#Exercise-1)\n",
    "\n",
    "### Regular Expressions\n",
    "\n",
    "#### Syntax\n",
    "\n",
    "* [Grouping](#Grouping)\n",
    "* [Repetitions](#Repetitions)\n",
    "* [Special Characters](#Special-Characters)\n",
    "\n",
    "#### Functions\n",
    "\n",
    "* [match()](#match())\n",
    "* [search()](#search())\n",
    "* [findall()](#findall())\n",
    "* [finditer()](#finditer())\n",
    "* [Tokenization](#Tokenization-with-Regex)\n",
    "* [Exercise 2](#Exercise-2)\n",
    "\n",
    "### References\n",
    "\n",
    "* [Regular Expressions](https://web.stanford.edu/~jurafsky/slp3/2.pdf), Chapter 2.1, Speech and Language Processing\n",
    "* [Regular Expression Operations](https://docs.python.org/3/library/re.html), Python Documentation\n",
    "* [Regular Expression HOWTO](https://docs.python.org/3/howto/regex.html), Python Documentation\n",
    "* [Regular Expresions 101](https://regex101.com)"
   ]
  },
  {
   "cell_type": "markdown",
   "source": [
    "# Tokenization\n",
    "\n",
    "Many NLP applications require input text to be tokenized where each token represents a meaningful linguistic unit such as a word."
   ],
   "metadata": {
    "collapsed": false
   }
  },
  {
   "cell_type": "markdown",
   "metadata": {},
   "source": [
    "## Split by Whitespace\n",
    "\n",
    "It is easy to tokenize a string by whitespace using the `split()` function."
   ]
  },
  {
   "cell_type": "code",
   "execution_count": 10,
   "metadata": {},
   "outputs": [
    {
     "name": "stdout",
     "output_type": "stream",
     "text": [
      "['Mr.', 'Wayne', 'is', 'Batman']\n"
     ]
    }
   ],
   "source": [
    "text = 'Mr. Wayne is Batman'\n",
    "tokens = text.split()\n",
    "print(tokens)"
   ]
  },
  {
   "cell_type": "markdown",
   "metadata": {},
   "source": [
    "* [`str.split(sep=None, maxsplit=-1)`](https://docs.python.org/3/library/stdtypes.html?highlight=split#str.split)"
   ]
  },
  {
   "cell_type": "markdown",
   "metadata": {},
   "source": [
    "However, splitting by whitespaces can cause the resulting tokens to be noisy:"
   ]
  },
  {
   "cell_type": "code",
   "execution_count": 11,
   "metadata": {},
   "outputs": [
    {
     "name": "stdout",
     "output_type": "stream",
     "text": [
      "['Mr.', 'Wayne', \"isn't\", 'the', 'hero', 'we', 'need,', 'but', '\"the', 'one\"', 'we', 'deserve.']\n"
     ]
    }
   ],
   "source": [
    "text = 'Mr. Wayne isn\\'t the hero we need, but \"the one\" we deserve.'\n",
    "tokens = text.split()\n",
    "print(tokens)"
   ]
  },
  {
   "cell_type": "markdown",
   "metadata": {},
   "source": [
    "* `\"isn't\"` &rarr; `['is', \"n't\"]`\n",
    "* `'need,'` &rarr; `['need', ',']`\n",
    "* `'\"the'` &rarr; `['\"', 'the']`\n",
    "* `'one\"'` &rarr; `['one', '\"']`\n",
    "* `'deserve.'` &rarr; `['deserve', '.']`"
   ]
  },
  {
   "cell_type": "markdown",
   "metadata": {},
   "source": [
    "## Substring Matching\n",
    "\n",
    "It is possible to resolve the above issues through subastring matching:"
   ]
  },
  {
   "cell_type": "code",
   "execution_count": 12,
   "metadata": {},
   "outputs": [
    {
     "name": "stdout",
     "output_type": "stream",
     "text": [
      "['Mr.', 'Wayne', 'is', \"n't\", 'the', 'hero', 'we', 'need', ',', 'but', '\"', 'the', 'one', '\"', 'we', 'deserve', '.']\n"
     ]
    }
   ],
   "source": [
    "STARTS = ['\"']\n",
    "ENDS = [\"n't\", '.', ',', '\"']\n",
    "\n",
    "new_tokens = []\n",
    "for token in tokens:\n",
    "    start = next((t for t in STARTS if token.startswith(t)), None)\n",
    "    if start:\n",
    "        n = len(start)\n",
    "        t1 = token[:n]\n",
    "        t2 = token[n:]\n",
    "        new_tokens.extend([t1, t2])\n",
    "        continue\n",
    "    \n",
    "    end = next((t for t in ENDS if token.endswith(t)), None)\n",
    "    if end:\n",
    "        n = len(end)\n",
    "        t1 = token[:-n]\n",
    "        t2 = token[-n:]\n",
    "        if not (t1 == 'Mr' and t2 == '.'):\n",
    "            new_tokens.extend([t1, t2])\n",
    "            continue\n",
    "\n",
    "    new_tokens.append(token)\n",
    "\n",
    "print(new_tokens)"
   ]
  },
  {
   "cell_type": "markdown",
   "metadata": {},
   "source": [
    "* [List Comprehensions](https://docs.python.org/3/tutorial/datastructures.html#list-comprehensions)\n",
    "* [More on Lists](https://docs.python.org/3/tutorial/datastructures.html#more-on-lists)\n",
    "* [`next(iterator[, default])`](https://docs.python.org/3/library/functions.html#next)"
   ]
  },
  {
   "cell_type": "markdown",
   "metadata": {},
   "source": [
    "The first parameter in the `next()` function creates an iterator:"
   ]
  },
  {
   "cell_type": "code",
   "execution_count": 13,
   "metadata": {},
   "outputs": [
    {
     "name": "stdout",
     "output_type": "stream",
     "text": [
      "<generator object <genexpr> at 0x7fb228301890>\n"
     ]
    }
   ],
   "source": [
    "d = (t for t in STARTS if token.startswith(t))\n",
    "print(d)"
   ]
  },
  {
   "cell_type": "markdown",
   "metadata": {},
   "source": [
    "## Function Definition\n",
    "\n",
    "Let us convert the above code into a function:"
   ]
  },
  {
   "cell_type": "code",
   "execution_count": 14,
   "metadata": {},
   "outputs": [],
   "source": [
    "def tokenize_strmat_0(text):\n",
    "    tokens = text.split()\n",
    "    new_tokens = []\n",
    "    \n",
    "    for token in tokens:\n",
    "        start = next((t for t in STARTS if token.startswith(t)), None)\n",
    "        if start:\n",
    "            n = len(start)\n",
    "            t1 = token[:n]\n",
    "            t2 = token[n:]\n",
    "            new_tokens.extend([t1, t2])\n",
    "            continue\n",
    "\n",
    "        end = next((t for t in ENDS if token.endswith(t)), None)\n",
    "        if end:\n",
    "            n = len(end)\n",
    "            t1 = token[:-n]\n",
    "            t2 = token[-n:]\n",
    "            if not (t1 == 'Mr' and t2 == '.'):\n",
    "                new_tokens.extend([t1, t2])\n",
    "                continue\n",
    "\n",
    "        new_tokens.append(token)\n",
    "\n",
    "    return new_tokens"
   ]
  },
  {
   "cell_type": "code",
   "execution_count": 15,
   "metadata": {},
   "outputs": [
    {
     "name": "stdout",
     "output_type": "stream",
     "text": [
      "['Mr.', 'Wayne', 'is', \"n't\", 'the', 'hero', 'we', 'need', ',', 'but', '\"', 'the', 'one', '\"', 'we', 'deserve', '.']\n"
     ]
    }
   ],
   "source": [
    "print(tokenize_strmat_0(text))"
   ]
  },
  {
   "cell_type": "markdown",
   "metadata": {},
   "source": [
    "## Exercise 1\n",
    "\n",
    "Let us consider the following example:"
   ]
  },
  {
   "cell_type": "code",
   "execution_count": 16,
   "metadata": {},
   "outputs": [
    {
     "name": "stdout",
     "output_type": "stream",
     "text": [
      "['Ms', '.', 'Wayne', 'is', '\"', 'Batgirl\"', 'but', 'not', '\"', 'the', 'one\"', '.']\n"
     ]
    }
   ],
   "source": [
    "text = 'Ms. Wayne is \"Batgirl\" but not \"the one\".'\n",
    "print(tokenize_strmat_0(text))"
   ]
  },
  {
   "cell_type": "markdown",
   "metadata": {},
   "source": [
    "* `['Ms', '.']` &rarr; `'Ms.'`\n",
    "* `'Batgirl\"'` &rarr; `['Batgirl', '\"']`\n",
    "* `'one\"'` &rarr; `['one', '\"']`"
   ]
  },
  {
   "cell_type": "markdown",
   "metadata": {},
   "source": [
    "**Modify the `tokenize_strmat()` function to handle the above example.**\n",
    "\n",
    "Expected output:\n",
    "```python\n",
    "['Ms.', 'Wayne', 'is', '\"', 'Batgirl', '\"', 'but', 'not', '\"', 'the', 'one', '\"', '.']\n",
    "```"
   ]
  },
  {
   "cell_type": "code",
   "execution_count": 17,
   "metadata": {},
   "outputs": [],
   "source": [
    "def tokenize_strmat_1(text):\n",
    "    tokens = text.split()\n",
    "    new_tokens = []\n",
    "    # to be filled\n",
    "    return new_tokens"
   ]
  },
  {
   "cell_type": "code",
   "execution_count": 8,
   "metadata": {},
   "outputs": [
    {
     "data": {
      "text/html": [
       "<style>table {margin-left: 0 !important;}</style>"
      ],
      "text/plain": [
       "<IPython.core.display.HTML object>"
      ]
     },
     "metadata": {},
     "output_type": "display_data"
    }
   ],
   "source": [
    "# to left-algin the tables below\n",
    "from IPython.core.display import display, HTML\n",
    "display(HTML(\"<style>table {margin-left: 0 !important;}</style>\"))"
   ]
  },
  {
   "cell_type": "markdown",
   "metadata": {},
   "source": [
    "# Regular Expressions\n",
    "\n",
    "## Syntax\n",
    "\n",
    "Regular expressions provide powerful ways to match strings and beyond.\n",
    "\n",
    "### Grouping\n",
    "\n",
    "| Syntax | Description |\n",
    "|:---|:---|\n",
    "| `[ ]`   | a set of characters |\n",
    "| `( )`   | a capturing group |\n",
    "| `(?: )` | a non capturing group |\n",
    "| `\\|`    | or |\n",
    "\n",
    "### Repetitions\n",
    "\n",
    "| Syntax | Description | Non-greedy |\n",
    "|:---|:---|:---|\n",
    "| `.`     | any character except a newline | |\n",
    "| `*`     | 0 or more repetitions | `*?` |\n",
    "| `+`     | 1 or more repetitions | `+?` |\n",
    "| `?`     | 0 or 1 repetitions | `??` |\n",
    "| `{m}`   | exactly `m` repetitions | |\n",
    "| `{m,n}` | from `m` to `n` repetitions | `{m,n}?` |\n",
    "\n",
    "### Special Characters\n",
    "\n",
    "| Syntax | Description |\n",
    "|:---|:---|\n",
    "| `^`    | the start of the string | |\n",
    "| `$`    | the end of the string | |\n",
    "| `\\num` | the contents of the group of the same number |\n",
    "| `\\d`   | any decimal digit |\n",
    "| `\\D`   | any non-decimal-digit character |\n",
    "| `\\s`   | any whitespace character |\n",
    "| `\\S`   | any non-whitespace character |\n",
    "| `\\w`   | any alphanumeric character and the underscore |\n",
    "| `\\W`   | any non-alphanumeric character |"
   ]
  },
  {
   "cell_type": "markdown",
   "metadata": {},
   "source": [
    "## Functions\n",
    "\n",
    "Several functions are provided in Python to match regular expressions."
   ]
  },
  {
   "cell_type": "markdown",
   "metadata": {},
   "source": [
    "### match()\n",
    "\n",
    "Let us create a regular expression that matches `'Mr.'` and `'Ms.'`:"
   ]
  },
  {
   "cell_type": "code",
   "execution_count": 9,
   "metadata": {},
   "outputs": [
    {
     "name": "stdout",
     "output_type": "stream",
     "text": [
      "<re.Match object; span=(0, 3), match='Mr.'>\n",
      "Mr. 0 3\n"
     ]
    }
   ],
   "source": [
    "import re\n",
    "\n",
    "RE_MR = re.compile(r'M[rs]\\.')\n",
    "m = RE_MR.match('Mr. Wayne')\n",
    "print(m)\n",
    "if m: print(m.group(), m.start(), m.end())"
   ]
  },
  {
   "cell_type": "markdown",
   "metadata": {},
   "source": [
    "* [`re.match(pattern, string, flags=0)`](https://docs.python.org/3/library/re.html?highlight=re#re.match)\n",
    "* [Match Objects](https://docs.python.org/3/library/re.html#match-objects)"
   ]
  },
  {
   "cell_type": "markdown",
   "metadata": {},
   "source": [
    "Currenlty, no group is specified for `RE_MR`:"
   ]
  },
  {
   "cell_type": "code",
   "execution_count": 10,
   "metadata": {},
   "outputs": [
    {
     "name": "stdout",
     "output_type": "stream",
     "text": [
      "()\n"
     ]
    }
   ],
   "source": [
    "print(m.groups())"
   ]
  },
  {
   "cell_type": "markdown",
   "metadata": {},
   "source": [
    "It is possible to group certain patterns using parentheses:"
   ]
  },
  {
   "cell_type": "code",
   "execution_count": 11,
   "metadata": {},
   "outputs": [
    {
     "name": "stdout",
     "output_type": "stream",
     "text": [
      "<re.Match object; span=(0, 3), match='Ms.'>\n",
      "Ms.\n",
      "('Ms', '.')\n",
      "Ms. Ms .\n"
     ]
    }
   ],
   "source": [
    "RE_MR = re.compile(r'(M[rs])(\\.)')\n",
    "\n",
    "m = RE_MR.match('Ms.')\n",
    "print(m)\n",
    "print(m.group())\n",
    "print(m.groups())\n",
    "print(m.group(0), m.group(1), m.group(2))"
   ]
  },
  {
   "cell_type": "markdown",
   "metadata": {},
   "source": [
    "If the pattern does not match, it returns `None`:"
   ]
  },
  {
   "cell_type": "code",
   "execution_count": 12,
   "metadata": {},
   "outputs": [
    {
     "name": "stdout",
     "output_type": "stream",
     "text": [
      "None\n"
     ]
    }
   ],
   "source": [
    "m = RE_MR.match('Mrs.')\n",
    "print(m)"
   ]
  },
  {
   "cell_type": "markdown",
   "metadata": {},
   "source": [
    "### search()\n",
    "\n",
    "Let us match the following strings with `RE_MR`:"
   ]
  },
  {
   "cell_type": "code",
   "execution_count": 13,
   "metadata": {},
   "outputs": [
    {
     "name": "stdout",
     "output_type": "stream",
     "text": [
      "<re.Match object; span=(0, 3), match='Mr.'>\n",
      "None\n"
     ]
    }
   ],
   "source": [
    "s1 = 'Mr. and Ms. Wayne are here'\n",
    "m = RE_MR.match(s1)\n",
    "print(m)\n",
    "\n",
    "s2 = 'Here are Mr. and Ms. Wayne'\n",
    "m = RE_MR.match(s2)\n",
    "print(m)"
   ]
  },
  {
   "cell_type": "markdown",
   "metadata": {},
   "source": [
    "`s1` matches `'Mr.'` but not `'Ms.'` while `s2` does not match any pattern.\n",
    "This is because `match()` matches patterns only from the beginning of the string.\n",
    "To match patterns anywhere in the string, we need to use `search()` instead:"
   ]
  },
  {
   "cell_type": "code",
   "execution_count": 14,
   "metadata": {},
   "outputs": [
    {
     "name": "stdout",
     "output_type": "stream",
     "text": [
      "<re.Match object; span=(0, 3), match='Mr.'>\n",
      "<re.Match object; span=(9, 12), match='Mr.'>\n"
     ]
    }
   ],
   "source": [
    "m = RE_MR.search(s1)\n",
    "print(m)\n",
    "\n",
    "m = RE_MR.search(s2)\n",
    "print(m)"
   ]
  },
  {
   "cell_type": "markdown",
   "metadata": {},
   "source": [
    "* [`Pattern.search(string[, pos[, endpos]])`](https://docs.python.org/3/library/re.html#re.Pattern.search)"
   ]
  },
  {
   "cell_type": "markdown",
   "metadata": {},
   "source": [
    "### findall()\n",
    "\n",
    "The `search()` method now matches all `'Mr.'` but still does not match `'Ms.'`.  To match all occurrences, we need to use `findall()`:"
   ]
  },
  {
   "cell_type": "code",
   "execution_count": 15,
   "metadata": {},
   "outputs": [
    {
     "name": "stdout",
     "output_type": "stream",
     "text": [
      "[('Mr', '.'), ('Ms', '.')]\n",
      "[('Mr', '.'), ('Ms', '.')]\n"
     ]
    }
   ],
   "source": [
    "m = RE_MR.findall(s1)\n",
    "print(m)\n",
    "\n",
    "m = RE_MR.findall(s2)\n",
    "print(m)"
   ]
  },
  {
   "cell_type": "markdown",
   "metadata": {},
   "source": [
    "* [`re.findall(pattern, string, flags=0)`](https://docs.python.org/3/library/re.html?highlight=re#re.findall)"
   ]
  },
  {
   "cell_type": "markdown",
   "metadata": {},
   "source": [
    "### finditer()\n",
    "\n",
    "Although `findall()` matches all occurrences of the pattern, it does not provide a way to locate where the matched results are in the string.\n",
    "To find out where the matched results are, we need to use `finditer()`:"
   ]
  },
  {
   "cell_type": "code",
   "execution_count": 16,
   "metadata": {},
   "outputs": [
    {
     "name": "stdout",
     "output_type": "stream",
     "text": [
      "<re.Match object; span=(0, 3), match='Mr.'>\n",
      "<re.Match object; span=(8, 11), match='Ms.'>\n",
      "<re.Match object; span=(9, 12), match='Mr.'>\n",
      "<re.Match object; span=(17, 20), match='Ms.'>\n"
     ]
    }
   ],
   "source": [
    "ms = RE_MR.finditer(s1)\n",
    "for m in ms: print(m)\n",
    "    \n",
    "ms = RE_MR.finditer(s2)\n",
    "for m in ms: print(m)"
   ]
  },
  {
   "cell_type": "markdown",
   "metadata": {},
   "source": [
    "## Tokenization with Regex\n",
    "\n",
    "Let us define a regular expression that matches the necessary patterns for tokenization:"
   ]
  },
  {
   "cell_type": "code",
   "execution_count": 17,
   "metadata": {},
   "outputs": [],
   "source": [
    "RE_TOK = re.compile(r'([\",.]|n\\'t|\\s+)')"
   ]
  },
  {
   "cell_type": "markdown",
   "metadata": {},
   "source": [
    "* `\\s` matches all whitespace.\n",
    "* `+` matches `1` or more occurrences of the pattern."
   ]
  },
  {
   "cell_type": "markdown",
   "metadata": {},
   "source": [
    "Let us apply `RE_TOK` to the previous example:"
   ]
  },
  {
   "cell_type": "code",
   "execution_count": 18,
   "metadata": {},
   "outputs": [
    {
     "name": "stdout",
     "output_type": "stream",
     "text": [
      "<re.Match object; span=(2, 3), match='.'>\n",
      "<re.Match object; span=(3, 4), match=' '>\n",
      "<re.Match object; span=(9, 10), match=' '>\n",
      "<re.Match object; span=(12, 15), match=\"n't\">\n",
      "<re.Match object; span=(15, 16), match=' '>\n",
      "<re.Match object; span=(19, 20), match=' '>\n",
      "<re.Match object; span=(24, 25), match=' '>\n",
      "<re.Match object; span=(27, 28), match=' '>\n",
      "<re.Match object; span=(32, 33), match=','>\n",
      "<re.Match object; span=(33, 34), match=' '>\n",
      "<re.Match object; span=(37, 38), match=' '>\n",
      "<re.Match object; span=(38, 39), match='\"'>\n",
      "<re.Match object; span=(42, 43), match=' '>\n",
      "<re.Match object; span=(46, 47), match='\"'>\n",
      "<re.Match object; span=(47, 48), match=' '>\n",
      "<re.Match object; span=(50, 51), match=' '>\n",
      "<re.Match object; span=(58, 59), match='.'>\n"
     ]
    }
   ],
   "source": [
    "text = 'Mr. Wayne isn\\'t the hero we need, but \"the one\" we deserve.'\n",
    "\n",
    "for m in RE_TOK.finditer(text):\n",
    "    print(m)"
   ]
  },
  {
   "cell_type": "markdown",
   "metadata": {},
   "source": [
    "Let us define a function that performs the same tokenization as `tokenize_strmat_1()`:"
   ]
  },
  {
   "cell_type": "code",
   "execution_count": 29,
   "metadata": {},
   "outputs": [],
   "source": [
    "def tokenize_regex(text):\n",
    "    prev_idx = 0\n",
    "    tokens = []\n",
    "    for m in RE_TOK.finditer(text):\n",
    "        t = text[prev_idx:m.start()].strip()\n",
    "        if t: tokens.append(t)\n",
    "        t = m.group().strip()\n",
    "        if t:\n",
    "            if tokens and tokens[-1] in {'Mr', 'Ms'} and t == '.':\n",
    "                tokens[-1] = tokens[-1] + t\n",
    "            else:\n",
    "                tokens.append(t)\n",
    "        prev_idx = m.end()\n",
    "\n",
    "    t = text[prev_idx:]\n",
    "    if t:  tokens.append(t)\n",
    "    return tokens"
   ]
  },
  {
   "cell_type": "markdown",
   "metadata": {},
   "source": [
    "Here are some examples of slicing and strip methods:"
   ]
  },
  {
   "cell_type": "code",
   "execution_count": 1,
   "metadata": {},
   "outputs": [
    {
     "name": "stdout",
     "output_type": "stream",
     "text": [
      "True\n",
      "[   a b c   ]\n",
      "[a b c]\n",
      "[a b c   ]\n",
      "[   a b c]\n"
     ]
    }
   ],
   "source": [
    "s = 'abc'\n",
    "print(s[0:0] == '')\n",
    "\n",
    "s = '   a b c   '\n",
    "print('[' + s + ']')\n",
    "print('[' + s.strip() + ']')\n",
    "print('[' + s.lstrip() + ']')\n",
    "print('[' + s.rstrip() + ']')"
   ]
  },
  {
   "cell_type": "code",
   "execution_count": 30,
   "metadata": {},
   "outputs": [
    {
     "name": "stdout",
     "output_type": "stream",
     "text": [
      "['Ms.', 'Wayne', 'is', '\"', 'Batgirl', '\"', 'but', 'not', '\"', 'the', 'one', '\"']\n",
      "['Ms.', 'Wayne', 'is', '\"', 'Batgirl', '\"', 'but', 'not', '\"', 'the', 'one', '\"', '.']\n"
     ]
    }
   ],
   "source": [
    "print(tokenize_regex(text))\n",
    "\n",
    "text = 'Ms. Wayne is \"Batgirl\" but not \"the one\".'\n",
    "print(tokenize_regex(text))"
   ]
  },
  {
   "cell_type": "code",
   "execution_count": 31,
   "metadata": {},
   "outputs": [
    {
     "name": "stdout",
     "output_type": "stream",
     "text": [
      "['Mr.', 'Wayne', 'is', \"n't\", 'the', 'hero', 'we', 'need', ',', 'but', '\"', 'the', 'one', '\"', 'we', 'deserve']\n",
      "['Ms.', 'Wayne', 'is', '\"', 'Batgirl', '\"', 'but', 'not', '\"', 'the', 'one', '\"']\n"
     ]
    }
   ],
   "source": [
    "text = 'Mr. Wayne isn\\'t the hero we need, but \"the one\" we deserve'\n",
    "print(tokenize_regex(text))\n",
    "\n",
    "text = 'Ms. Wayne is \"Batgirl\" but not \"the one\"'\n",
    "print(tokenize_regex(text))"
   ]
  },
  {
   "cell_type": "markdown",
   "metadata": {},
   "source": [
    "## Exercise 2\n",
    "\n",
    "Define regular expressions to match the following cases:\n",
    "\n",
    "* Abbreviation: `Dr.`, `U.S.A.`\n",
    "* Apostrophy: `'80`, `'90s`, `'cause`\n",
    "* Concatenation: `don't`, `gonna`, `cannot`\n",
    "* Hyperlink: `https://github.com/emory-courses/cs329/`\n",
    "* Number: `1/2`, `123-456-7890`, `1,000,000`\n",
    "* Unit: `$10`, `#20`, `5kg`"
   ]
  }
 ],
 "metadata": {
  "kernelspec": {
   "display_name": "Python 3 (ipykernel)",
   "language": "python",
   "name": "python3"
  },
  "language_info": {
   "codemirror_mode": {
    "name": "ipython",
    "version": 3
   },
   "file_extension": ".py",
   "mimetype": "text/x-python",
   "name": "python",
   "nbconvert_exporter": "python",
   "pygments_lexer": "ipython3",
   "version": "3.10.0"
  }
 },
 "nbformat": 4,
 "nbformat_minor": 1
}
